{
 "cells": [
  {
   "cell_type": "code",
   "execution_count": 1,
   "id": "efc4289a",
   "metadata": {},
   "outputs": [],
   "source": [
    "import numpy as np\n",
    "import pandas as pd"
   ]
  },
  {
   "cell_type": "code",
   "execution_count": 2,
   "id": "1cc1acc9",
   "metadata": {},
   "outputs": [],
   "source": [
    "dataset = pd.read_csv(\"Downloads/bank.csv\")"
   ]
  },
  {
   "cell_type": "code",
   "execution_count": 3,
   "id": "bc43e7ac",
   "metadata": {},
   "outputs": [
    {
     "data": {
      "text/html": [
       "<div>\n",
       "<style scoped>\n",
       "    .dataframe tbody tr th:only-of-type {\n",
       "        vertical-align: middle;\n",
       "    }\n",
       "\n",
       "    .dataframe tbody tr th {\n",
       "        vertical-align: top;\n",
       "    }\n",
       "\n",
       "    .dataframe thead th {\n",
       "        text-align: right;\n",
       "    }\n",
       "</style>\n",
       "<table border=\"1\" class=\"dataframe\">\n",
       "  <thead>\n",
       "    <tr style=\"text-align: right;\">\n",
       "      <th></th>\n",
       "      <th>age</th>\n",
       "      <th>job</th>\n",
       "      <th>marital</th>\n",
       "      <th>education</th>\n",
       "      <th>default</th>\n",
       "      <th>balance</th>\n",
       "      <th>housing</th>\n",
       "      <th>loan</th>\n",
       "      <th>contact</th>\n",
       "      <th>day</th>\n",
       "      <th>month</th>\n",
       "      <th>duration</th>\n",
       "      <th>campaign</th>\n",
       "      <th>pdays</th>\n",
       "      <th>previous</th>\n",
       "      <th>poutcome</th>\n",
       "      <th>deposit</th>\n",
       "    </tr>\n",
       "  </thead>\n",
       "  <tbody>\n",
       "    <tr>\n",
       "      <th>0</th>\n",
       "      <td>59</td>\n",
       "      <td>admin.</td>\n",
       "      <td>married</td>\n",
       "      <td>secondary</td>\n",
       "      <td>no</td>\n",
       "      <td>2343</td>\n",
       "      <td>yes</td>\n",
       "      <td>no</td>\n",
       "      <td>unknown</td>\n",
       "      <td>5</td>\n",
       "      <td>may</td>\n",
       "      <td>1042</td>\n",
       "      <td>1</td>\n",
       "      <td>-1</td>\n",
       "      <td>0</td>\n",
       "      <td>unknown</td>\n",
       "      <td>yes</td>\n",
       "    </tr>\n",
       "    <tr>\n",
       "      <th>1</th>\n",
       "      <td>56</td>\n",
       "      <td>admin.</td>\n",
       "      <td>married</td>\n",
       "      <td>secondary</td>\n",
       "      <td>no</td>\n",
       "      <td>45</td>\n",
       "      <td>no</td>\n",
       "      <td>no</td>\n",
       "      <td>unknown</td>\n",
       "      <td>5</td>\n",
       "      <td>may</td>\n",
       "      <td>1467</td>\n",
       "      <td>1</td>\n",
       "      <td>-1</td>\n",
       "      <td>0</td>\n",
       "      <td>unknown</td>\n",
       "      <td>yes</td>\n",
       "    </tr>\n",
       "    <tr>\n",
       "      <th>2</th>\n",
       "      <td>41</td>\n",
       "      <td>technician</td>\n",
       "      <td>married</td>\n",
       "      <td>secondary</td>\n",
       "      <td>no</td>\n",
       "      <td>1270</td>\n",
       "      <td>yes</td>\n",
       "      <td>no</td>\n",
       "      <td>unknown</td>\n",
       "      <td>5</td>\n",
       "      <td>may</td>\n",
       "      <td>1389</td>\n",
       "      <td>1</td>\n",
       "      <td>-1</td>\n",
       "      <td>0</td>\n",
       "      <td>unknown</td>\n",
       "      <td>yes</td>\n",
       "    </tr>\n",
       "    <tr>\n",
       "      <th>3</th>\n",
       "      <td>55</td>\n",
       "      <td>services</td>\n",
       "      <td>married</td>\n",
       "      <td>secondary</td>\n",
       "      <td>no</td>\n",
       "      <td>2476</td>\n",
       "      <td>yes</td>\n",
       "      <td>no</td>\n",
       "      <td>unknown</td>\n",
       "      <td>5</td>\n",
       "      <td>may</td>\n",
       "      <td>579</td>\n",
       "      <td>1</td>\n",
       "      <td>-1</td>\n",
       "      <td>0</td>\n",
       "      <td>unknown</td>\n",
       "      <td>yes</td>\n",
       "    </tr>\n",
       "    <tr>\n",
       "      <th>4</th>\n",
       "      <td>54</td>\n",
       "      <td>admin.</td>\n",
       "      <td>married</td>\n",
       "      <td>tertiary</td>\n",
       "      <td>no</td>\n",
       "      <td>184</td>\n",
       "      <td>no</td>\n",
       "      <td>no</td>\n",
       "      <td>unknown</td>\n",
       "      <td>5</td>\n",
       "      <td>may</td>\n",
       "      <td>673</td>\n",
       "      <td>2</td>\n",
       "      <td>-1</td>\n",
       "      <td>0</td>\n",
       "      <td>unknown</td>\n",
       "      <td>yes</td>\n",
       "    </tr>\n",
       "    <tr>\n",
       "      <th>5</th>\n",
       "      <td>42</td>\n",
       "      <td>management</td>\n",
       "      <td>single</td>\n",
       "      <td>tertiary</td>\n",
       "      <td>no</td>\n",
       "      <td>0</td>\n",
       "      <td>yes</td>\n",
       "      <td>yes</td>\n",
       "      <td>unknown</td>\n",
       "      <td>5</td>\n",
       "      <td>may</td>\n",
       "      <td>562</td>\n",
       "      <td>2</td>\n",
       "      <td>-1</td>\n",
       "      <td>0</td>\n",
       "      <td>unknown</td>\n",
       "      <td>yes</td>\n",
       "    </tr>\n",
       "    <tr>\n",
       "      <th>6</th>\n",
       "      <td>56</td>\n",
       "      <td>management</td>\n",
       "      <td>married</td>\n",
       "      <td>tertiary</td>\n",
       "      <td>no</td>\n",
       "      <td>830</td>\n",
       "      <td>yes</td>\n",
       "      <td>yes</td>\n",
       "      <td>unknown</td>\n",
       "      <td>6</td>\n",
       "      <td>may</td>\n",
       "      <td>1201</td>\n",
       "      <td>1</td>\n",
       "      <td>-1</td>\n",
       "      <td>0</td>\n",
       "      <td>unknown</td>\n",
       "      <td>yes</td>\n",
       "    </tr>\n",
       "    <tr>\n",
       "      <th>7</th>\n",
       "      <td>60</td>\n",
       "      <td>retired</td>\n",
       "      <td>divorced</td>\n",
       "      <td>secondary</td>\n",
       "      <td>no</td>\n",
       "      <td>545</td>\n",
       "      <td>yes</td>\n",
       "      <td>no</td>\n",
       "      <td>unknown</td>\n",
       "      <td>6</td>\n",
       "      <td>may</td>\n",
       "      <td>1030</td>\n",
       "      <td>1</td>\n",
       "      <td>-1</td>\n",
       "      <td>0</td>\n",
       "      <td>unknown</td>\n",
       "      <td>yes</td>\n",
       "    </tr>\n",
       "    <tr>\n",
       "      <th>8</th>\n",
       "      <td>37</td>\n",
       "      <td>technician</td>\n",
       "      <td>married</td>\n",
       "      <td>secondary</td>\n",
       "      <td>no</td>\n",
       "      <td>1</td>\n",
       "      <td>yes</td>\n",
       "      <td>no</td>\n",
       "      <td>unknown</td>\n",
       "      <td>6</td>\n",
       "      <td>may</td>\n",
       "      <td>608</td>\n",
       "      <td>1</td>\n",
       "      <td>-1</td>\n",
       "      <td>0</td>\n",
       "      <td>unknown</td>\n",
       "      <td>yes</td>\n",
       "    </tr>\n",
       "    <tr>\n",
       "      <th>9</th>\n",
       "      <td>28</td>\n",
       "      <td>services</td>\n",
       "      <td>single</td>\n",
       "      <td>secondary</td>\n",
       "      <td>no</td>\n",
       "      <td>5090</td>\n",
       "      <td>yes</td>\n",
       "      <td>no</td>\n",
       "      <td>unknown</td>\n",
       "      <td>6</td>\n",
       "      <td>may</td>\n",
       "      <td>1297</td>\n",
       "      <td>3</td>\n",
       "      <td>-1</td>\n",
       "      <td>0</td>\n",
       "      <td>unknown</td>\n",
       "      <td>yes</td>\n",
       "    </tr>\n",
       "  </tbody>\n",
       "</table>\n",
       "</div>"
      ],
      "text/plain": [
       "   age         job   marital  education default  balance housing loan  \\\n",
       "0   59      admin.   married  secondary      no     2343     yes   no   \n",
       "1   56      admin.   married  secondary      no       45      no   no   \n",
       "2   41  technician   married  secondary      no     1270     yes   no   \n",
       "3   55    services   married  secondary      no     2476     yes   no   \n",
       "4   54      admin.   married   tertiary      no      184      no   no   \n",
       "5   42  management    single   tertiary      no        0     yes  yes   \n",
       "6   56  management   married   tertiary      no      830     yes  yes   \n",
       "7   60     retired  divorced  secondary      no      545     yes   no   \n",
       "8   37  technician   married  secondary      no        1     yes   no   \n",
       "9   28    services    single  secondary      no     5090     yes   no   \n",
       "\n",
       "   contact  day month  duration  campaign  pdays  previous poutcome deposit  \n",
       "0  unknown    5   may      1042         1     -1         0  unknown     yes  \n",
       "1  unknown    5   may      1467         1     -1         0  unknown     yes  \n",
       "2  unknown    5   may      1389         1     -1         0  unknown     yes  \n",
       "3  unknown    5   may       579         1     -1         0  unknown     yes  \n",
       "4  unknown    5   may       673         2     -1         0  unknown     yes  \n",
       "5  unknown    5   may       562         2     -1         0  unknown     yes  \n",
       "6  unknown    6   may      1201         1     -1         0  unknown     yes  \n",
       "7  unknown    6   may      1030         1     -1         0  unknown     yes  \n",
       "8  unknown    6   may       608         1     -1         0  unknown     yes  \n",
       "9  unknown    6   may      1297         3     -1         0  unknown     yes  "
      ]
     },
     "execution_count": 3,
     "metadata": {},
     "output_type": "execute_result"
    }
   ],
   "source": [
    "dataset.head(10)"
   ]
  },
  {
   "cell_type": "code",
   "execution_count": 4,
   "id": "7bc27b45",
   "metadata": {},
   "outputs": [
    {
     "data": {
      "text/plain": [
       "age          False\n",
       "job          False\n",
       "marital      False\n",
       "education    False\n",
       "default      False\n",
       "balance      False\n",
       "housing      False\n",
       "loan         False\n",
       "contact      False\n",
       "day          False\n",
       "month        False\n",
       "duration     False\n",
       "campaign     False\n",
       "pdays        False\n",
       "previous     False\n",
       "poutcome     False\n",
       "deposit      False\n",
       "dtype: bool"
      ]
     },
     "execution_count": 4,
     "metadata": {},
     "output_type": "execute_result"
    }
   ],
   "source": [
    "dataset.isnull().any()"
   ]
  },
  {
   "cell_type": "code",
   "execution_count": 5,
   "id": "6150f31c",
   "metadata": {},
   "outputs": [
    {
     "name": "stdout",
     "output_type": "stream",
     "text": [
      "<class 'pandas.core.frame.DataFrame'>\n",
      "RangeIndex: 11162 entries, 0 to 11161\n",
      "Data columns (total 17 columns):\n",
      " #   Column     Non-Null Count  Dtype \n",
      "---  ------     --------------  ----- \n",
      " 0   age        11162 non-null  int64 \n",
      " 1   job        11162 non-null  object\n",
      " 2   marital    11162 non-null  object\n",
      " 3   education  11162 non-null  object\n",
      " 4   default    11162 non-null  object\n",
      " 5   balance    11162 non-null  int64 \n",
      " 6   housing    11162 non-null  object\n",
      " 7   loan       11162 non-null  object\n",
      " 8   contact    11162 non-null  object\n",
      " 9   day        11162 non-null  int64 \n",
      " 10  month      11162 non-null  object\n",
      " 11  duration   11162 non-null  int64 \n",
      " 12  campaign   11162 non-null  int64 \n",
      " 13  pdays      11162 non-null  int64 \n",
      " 14  previous   11162 non-null  int64 \n",
      " 15  poutcome   11162 non-null  object\n",
      " 16  deposit    11162 non-null  object\n",
      "dtypes: int64(7), object(10)\n",
      "memory usage: 1.4+ MB\n"
     ]
    }
   ],
   "source": [
    "dataset.info()"
   ]
  },
  {
   "cell_type": "code",
   "execution_count": 6,
   "id": "fdbd8b5c",
   "metadata": {},
   "outputs": [],
   "source": [
    "x = dataset.iloc[:, 0:16].values\n",
    "y = dataset.iloc[:, 16:17].values"
   ]
  },
  {
   "cell_type": "code",
   "execution_count": 7,
   "id": "35582f03",
   "metadata": {},
   "outputs": [
    {
     "data": {
      "text/plain": [
       "array([[59, 'admin.', 'married', ..., -1, 0, 'unknown'],\n",
       "       [56, 'admin.', 'married', ..., -1, 0, 'unknown'],\n",
       "       [41, 'technician', 'married', ..., -1, 0, 'unknown'],\n",
       "       ...,\n",
       "       [32, 'technician', 'single', ..., -1, 0, 'unknown'],\n",
       "       [43, 'technician', 'married', ..., 172, 5, 'failure'],\n",
       "       [34, 'technician', 'married', ..., -1, 0, 'unknown']], dtype=object)"
      ]
     },
     "execution_count": 7,
     "metadata": {},
     "output_type": "execute_result"
    }
   ],
   "source": [
    "x"
   ]
  },
  {
   "cell_type": "code",
   "execution_count": 8,
   "id": "895b02ae",
   "metadata": {},
   "outputs": [
    {
     "data": {
      "text/plain": [
       "array([['yes'],\n",
       "       ['yes'],\n",
       "       ['yes'],\n",
       "       ...,\n",
       "       ['no'],\n",
       "       ['no'],\n",
       "       ['no']], dtype=object)"
      ]
     },
     "execution_count": 8,
     "metadata": {},
     "output_type": "execute_result"
    }
   ],
   "source": [
    "y"
   ]
  },
  {
   "cell_type": "code",
   "execution_count": 9,
   "id": "24b6110c",
   "metadata": {},
   "outputs": [
    {
     "data": {
      "text/plain": [
       "(11162, 16)"
      ]
     },
     "execution_count": 9,
     "metadata": {},
     "output_type": "execute_result"
    }
   ],
   "source": [
    "x.shape"
   ]
  },
  {
   "cell_type": "code",
   "execution_count": 10,
   "id": "60097fea",
   "metadata": {},
   "outputs": [
    {
     "data": {
      "text/plain": [
       "(11162, 1)"
      ]
     },
     "execution_count": 10,
     "metadata": {},
     "output_type": "execute_result"
    }
   ],
   "source": [
    "y.shape"
   ]
  },
  {
   "cell_type": "code",
   "execution_count": 11,
   "id": "90c2a225",
   "metadata": {},
   "outputs": [],
   "source": [
    "#converting all textual data i.e. job, marital, education, default, housing, loan, contact, month, poutcome to binary\n",
    "\n",
    "from sklearn.preprocessing import OneHotEncoder\n",
    "from sklearn.compose import ColumnTransformer"
   ]
  },
  {
   "cell_type": "code",
   "execution_count": 12,
   "id": "8166ae14",
   "metadata": {},
   "outputs": [],
   "source": [
    "ct = ColumnTransformer([(\"one\",OneHotEncoder(),[1,2,3,4,6,7,8,10,15])],remainder = \"passthrough\")\n",
    "x = ct.fit_transform(x)"
   ]
  },
  {
   "cell_type": "code",
   "execution_count": 13,
   "id": "4308f3e8",
   "metadata": {},
   "outputs": [
    {
     "data": {
      "text/plain": [
       "(11162, 51)"
      ]
     },
     "execution_count": 13,
     "metadata": {},
     "output_type": "execute_result"
    }
   ],
   "source": [
    "x.shape"
   ]
  },
  {
   "cell_type": "code",
   "execution_count": 14,
   "id": "e8a20e3f",
   "metadata": {},
   "outputs": [],
   "source": [
    "ct1 = ColumnTransformer([(\"one\",OneHotEncoder(),[0])],remainder = \"passthrough\")\n",
    "y = ct1.fit_transform(y)"
   ]
  },
  {
   "cell_type": "code",
   "execution_count": 15,
   "id": "06f82323",
   "metadata": {},
   "outputs": [
    {
     "data": {
      "text/plain": [
       "array([[0., 1.],\n",
       "       [0., 1.],\n",
       "       [0., 1.],\n",
       "       ...,\n",
       "       [1., 0.],\n",
       "       [1., 0.],\n",
       "       [1., 0.]])"
      ]
     },
     "execution_count": 15,
     "metadata": {},
     "output_type": "execute_result"
    }
   ],
   "source": [
    "y"
   ]
  },
  {
   "cell_type": "code",
   "execution_count": 16,
   "id": "2e1084a3",
   "metadata": {},
   "outputs": [
    {
     "data": {
      "text/plain": [
       "(11162, 2)"
      ]
     },
     "execution_count": 16,
     "metadata": {},
     "output_type": "execute_result"
    }
   ],
   "source": [
    "y.shape"
   ]
  },
  {
   "cell_type": "code",
   "execution_count": 17,
   "id": "01ce5c44",
   "metadata": {},
   "outputs": [],
   "source": [
    "from sklearn.model_selection import train_test_split\n",
    "x_train,x_test,y_train,y_test = train_test_split(x,y, test_size = 0.2,random_state = 0)"
   ]
  },
  {
   "cell_type": "code",
   "execution_count": 18,
   "id": "bff83319",
   "metadata": {},
   "outputs": [
    {
     "name": "stdout",
     "output_type": "stream",
     "text": [
      "x shape  (11162, 51)\n",
      "y shape  (11162, 2)\n",
      "x_train shape  (8929, 51)\n",
      "x_test shape  (2233, 51)\n",
      "y_train shape  (8929, 2)\n",
      "y_test shape (2233, 2)\n"
     ]
    }
   ],
   "source": [
    "print('x shape ', x.shape)\n",
    "print('y shape ', y.shape)\n",
    "print('x_train shape ', x_train.shape)\n",
    "print('x_test shape ', x_test.shape)\n",
    "print('y_train shape ', y_train.shape)\n",
    "print('y_test shape', y_test.shape)"
   ]
  },
  {
   "cell_type": "code",
   "execution_count": 19,
   "id": "01c2ea60",
   "metadata": {},
   "outputs": [],
   "source": [
    "from sklearn.preprocessing import StandardScaler\n",
    "sc = StandardScaler()\n",
    "x_train = sc.fit_transform(x_train)\n",
    "x_test = sc.transform(x_test)"
   ]
  },
  {
   "cell_type": "code",
   "execution_count": 20,
   "id": "1d40b702",
   "metadata": {},
   "outputs": [
    {
     "data": {
      "text/plain": [
       "array([[-0.37172192, -0.45760242, -0.17658264, -0.1589378 ,  1.8452729 ,\n",
       "        -0.27363591, -0.1931085 , -0.30435733, -0.17992689, -0.44212513,\n",
       "        -0.18025832, -0.08293772, -0.36485864,  0.86351031, -0.66975544,\n",
       "        -0.39346051,  1.01614555, -0.69993206, -0.21741017,  0.12621015,\n",
       "        -0.12621015, -1.05825117,  1.05825117,  0.39003722, -0.39003722,\n",
       "        -1.60273048, -0.27292594,  1.93439945, -0.30193478, -0.39913565,\n",
       "        -0.09686471, -0.27410848, -0.17488949, -0.39459853, -0.34910544,\n",
       "        -0.15930776,  1.70870313, -0.30215554, -0.1931085 , -0.16761389,\n",
       "        -0.35031555, -0.22657536, -0.32939951,  0.58661881,  0.64941897,\n",
       "        -0.44565283, -0.90504798, -0.2483547 , -0.56394809, -0.48428507,\n",
       "        -0.35888264],\n",
       "       [-0.37172192, -0.45760242, -0.17658264, -0.1589378 , -0.54192526,\n",
       "         3.65449114, -0.1931085 , -0.30435733, -0.17992689, -0.44212513,\n",
       "        -0.18025832, -0.08293772,  2.7407875 , -1.15806377, -0.66975544,\n",
       "        -0.39346051,  1.01614555, -0.69993206, -0.21741017,  0.12621015,\n",
       "        -0.12621015,  0.94495525, -0.94495525,  0.39003722, -0.39003722,\n",
       "         0.62393522, -0.27292594, -0.51695631, -0.30193478, -0.39913565,\n",
       "        -0.09686471,  3.64819063, -0.17488949, -0.39459853, -0.34910544,\n",
       "        -0.15930776, -0.58523917, -0.30215554, -0.1931085 , -0.16761389,\n",
       "        -0.35031555, -0.22657536, -0.32939951,  0.58661881,  1.48737591,\n",
       "        -0.31617229, -1.50003939, -0.31759131, -0.56394809, -0.48428507,\n",
       "        -0.35888264]])"
      ]
     },
     "execution_count": 20,
     "metadata": {},
     "output_type": "execute_result"
    }
   ],
   "source": [
    "x_train[0:2,:]"
   ]
  },
  {
   "cell_type": "code",
   "execution_count": 21,
   "id": "14c94da2",
   "metadata": {},
   "outputs": [
    {
     "data": {
      "text/plain": [
       "(8929, 51)"
      ]
     },
     "execution_count": 21,
     "metadata": {},
     "output_type": "execute_result"
    }
   ],
   "source": [
    "x_train.shape"
   ]
  },
  {
   "cell_type": "code",
   "execution_count": 22,
   "id": "1884248c",
   "metadata": {},
   "outputs": [
    {
     "data": {
      "text/plain": [
       "(8929, 2)"
      ]
     },
     "execution_count": 22,
     "metadata": {},
     "output_type": "execute_result"
    }
   ],
   "source": [
    "y_train.shape"
   ]
  },
  {
   "cell_type": "code",
   "execution_count": 23,
   "id": "45b41d9b",
   "metadata": {},
   "outputs": [],
   "source": [
    "from tensorflow.keras.models import Sequential \n",
    "from tensorflow.keras.layers import Dense"
   ]
  },
  {
   "cell_type": "code",
   "execution_count": 24,
   "id": "a355ef41",
   "metadata": {},
   "outputs": [],
   "source": [
    "classification = Sequential()"
   ]
  },
  {
   "cell_type": "code",
   "execution_count": 25,
   "id": "42bbbd4f",
   "metadata": {},
   "outputs": [],
   "source": [
    "classification.add(Dense(units=51,kernel_initializer='random_uniform',activation='relu'))"
   ]
  },
  {
   "cell_type": "code",
   "execution_count": 27,
   "id": "68e50c02",
   "metadata": {},
   "outputs": [],
   "source": [
    "classification.add(Dense(units=102,kernel_initializer='random_uniform',activation='relu'))"
   ]
  },
  {
   "cell_type": "code",
   "execution_count": 28,
   "id": "7f70735e",
   "metadata": {},
   "outputs": [],
   "source": [
    "classification.add(Dense(units=102,kernel_initializer='random_uniform',activation='relu'))"
   ]
  },
  {
   "cell_type": "code",
   "execution_count": 29,
   "id": "97b0b63a",
   "metadata": {},
   "outputs": [],
   "source": [
    "classification.add(Dense(units=102,kernel_initializer='random_uniform',activation='relu'))"
   ]
  },
  {
   "cell_type": "code",
   "execution_count": 30,
   "id": "6346da44",
   "metadata": {},
   "outputs": [],
   "source": [
    "classification.add(Dense(units=102,kernel_initializer='random_uniform',activation='relu'))"
   ]
  },
  {
   "cell_type": "code",
   "execution_count": 34,
   "id": "ad7dd4bf",
   "metadata": {},
   "outputs": [],
   "source": [
    "classification.compile(optimizer = \"adam\",loss = \"categorical_crossentropy\",metrics = [\"accuracy\"])"
   ]
  },
  {
   "cell_type": "code",
   "execution_count": 36,
   "id": "0337191f",
   "metadata": {},
   "outputs": [
    {
     "name": "stdout",
     "output_type": "stream",
     "text": [
      "Epoch 1/50\n",
      "280/280 [==============================] - 0s 1ms/step - loss: 0.1111 - accuracy: 0.9554\n",
      "Epoch 2/50\n",
      "280/280 [==============================] - 0s 1ms/step - loss: 0.1051 - accuracy: 0.9578\n",
      "Epoch 3/50\n",
      "280/280 [==============================] - 0s 1ms/step - loss: 0.0999 - accuracy: 0.9589\n",
      "Epoch 4/50\n",
      "280/280 [==============================] - 0s 1ms/step - loss: 0.0918 - accuracy: 0.9644\n",
      "Epoch 5/50\n",
      "280/280 [==============================] - 0s 1ms/step - loss: 0.1040 - accuracy: 0.9577\n",
      "Epoch 6/50\n",
      "280/280 [==============================] - 0s 1ms/step - loss: 0.0937 - accuracy: 0.9634\n",
      "Epoch 7/50\n",
      "280/280 [==============================] - 0s 973us/step - loss: 0.0906 - accuracy: 0.9652\n",
      "Epoch 8/50\n",
      "280/280 [==============================] - 0s 998us/step - loss: 0.0955 - accuracy: 0.9621\n",
      "Epoch 9/50\n",
      "280/280 [==============================] - 0s 1ms/step - loss: 0.0801 - accuracy: 0.9693\n",
      "Epoch 10/50\n",
      "280/280 [==============================] - 0s 969us/step - loss: 0.0807 - accuracy: 0.9681\n",
      "Epoch 11/50\n",
      "280/280 [==============================] - 0s 1ms/step - loss: 0.0774 - accuracy: 0.9692\n",
      "Epoch 12/50\n",
      "280/280 [==============================] - 0s 1ms/step - loss: 0.0782 - accuracy: 0.9696\n",
      "Epoch 13/50\n",
      "280/280 [==============================] - 0s 1ms/step - loss: 0.0751 - accuracy: 0.9689\n",
      "Epoch 14/50\n",
      "280/280 [==============================] - 0s 995us/step - loss: 0.0716 - accuracy: 0.9730\n",
      "Epoch 15/50\n",
      "280/280 [==============================] - 0s 995us/step - loss: 0.0698 - accuracy: 0.9718\n",
      "Epoch 16/50\n",
      "280/280 [==============================] - 0s 1ms/step - loss: 0.0654 - accuracy: 0.9744\n",
      "Epoch 17/50\n",
      "280/280 [==============================] - 0s 1ms/step - loss: 0.0757 - accuracy: 0.9745\n",
      "Epoch 18/50\n",
      "280/280 [==============================] - 0s 1ms/step - loss: 0.0577 - accuracy: 0.9798\n",
      "Epoch 19/50\n",
      "280/280 [==============================] - 0s 1ms/step - loss: 0.0724 - accuracy: 0.9724\n",
      "Epoch 20/50\n",
      "280/280 [==============================] - 0s 1ms/step - loss: 0.0536 - accuracy: 0.9800\n",
      "Epoch 21/50\n",
      "280/280 [==============================] - 0s 1ms/step - loss: 0.0604 - accuracy: 0.9791\n",
      "Epoch 22/50\n",
      "280/280 [==============================] - 0s 1ms/step - loss: 0.0541 - accuracy: 0.9798\n",
      "Epoch 23/50\n",
      "280/280 [==============================] - 0s 985us/step - loss: 0.0631 - accuracy: 0.9769\n",
      "Epoch 24/50\n",
      "280/280 [==============================] - 0s 1ms/step - loss: 0.0606 - accuracy: 0.9784\n",
      "Epoch 25/50\n",
      "280/280 [==============================] - 0s 1ms/step - loss: 0.0589 - accuracy: 0.9770\n",
      "Epoch 26/50\n",
      "280/280 [==============================] - 0s 1ms/step - loss: 0.0539 - accuracy: 0.9769\n",
      "Epoch 27/50\n",
      "280/280 [==============================] - 0s 1ms/step - loss: 0.0446 - accuracy: 0.9847\n",
      "Epoch 28/50\n",
      "280/280 [==============================] - 0s 1ms/step - loss: 0.0557 - accuracy: 0.9816\n",
      "Epoch 29/50\n",
      "280/280 [==============================] - 0s 966us/step - loss: 0.0505 - accuracy: 0.9817\n",
      "Epoch 30/50\n",
      "280/280 [==============================] - 0s 993us/step - loss: 0.0530 - accuracy: 0.9812\n",
      "Epoch 31/50\n",
      "280/280 [==============================] - 0s 964us/step - loss: 0.0528 - accuracy: 0.9813\n",
      "Epoch 32/50\n",
      "280/280 [==============================] - 0s 1ms/step - loss: 0.0443 - accuracy: 0.9823\n",
      "Epoch 33/50\n",
      "280/280 [==============================] - 0s 950us/step - loss: 0.0409 - accuracy: 0.9854\n",
      "Epoch 34/50\n",
      "280/280 [==============================] - 0s 963us/step - loss: 0.0490 - accuracy: 0.9816\n",
      "Epoch 35/50\n",
      "280/280 [==============================] - 0s 980us/step - loss: 0.0454 - accuracy: 0.9822\n",
      "Epoch 36/50\n",
      "280/280 [==============================] - 0s 1ms/step - loss: 0.0449 - accuracy: 0.9832\n",
      "Epoch 37/50\n",
      "280/280 [==============================] - 0s 980us/step - loss: 0.0543 - accuracy: 0.9802\n",
      "Epoch 38/50\n",
      "280/280 [==============================] - 0s 954us/step - loss: 0.0350 - accuracy: 0.9866\n",
      "Epoch 39/50\n",
      "280/280 [==============================] - 0s 980us/step - loss: 0.0385 - accuracy: 0.9861\n",
      "Epoch 40/50\n",
      "280/280 [==============================] - 0s 1ms/step - loss: 0.0436 - accuracy: 0.9831\n",
      "Epoch 41/50\n",
      "280/280 [==============================] - 0s 955us/step - loss: 0.0416 - accuracy: 0.9852\n",
      "Epoch 42/50\n",
      "280/280 [==============================] - 0s 934us/step - loss: 0.0420 - accuracy: 0.9844\n",
      "Epoch 43/50\n",
      "280/280 [==============================] - 0s 943us/step - loss: 0.0474 - accuracy: 0.9830\n",
      "Epoch 44/50\n",
      "280/280 [==============================] - 0s 1ms/step - loss: 0.0369 - accuracy: 0.9860\n",
      "Epoch 45/50\n",
      "280/280 [==============================] - 0s 953us/step - loss: 0.0432 - accuracy: 0.9847\n",
      "Epoch 46/50\n",
      "280/280 [==============================] - 0s 979us/step - loss: 0.0372 - accuracy: 0.9866\n",
      "Epoch 47/50\n",
      "280/280 [==============================] - 0s 999us/step - loss: 0.0449 - accuracy: 0.9826\n",
      "Epoch 48/50\n",
      "280/280 [==============================] - 0s 1ms/step - loss: 0.0339 - accuracy: 0.9877\n",
      "Epoch 49/50\n",
      "280/280 [==============================] - 0s 1ms/step - loss: 0.0358 - accuracy: 0.9853\n",
      "Epoch 50/50\n",
      "280/280 [==============================] - 0s 1ms/step - loss: 0.0434 - accuracy: 0.9835\n"
     ]
    },
    {
     "data": {
      "text/plain": [
       "<tensorflow.python.keras.callbacks.History at 0x2665c9e4be0>"
      ]
     },
     "execution_count": 36,
     "metadata": {},
     "output_type": "execute_result"
    }
   ],
   "source": [
    "classification.fit(x_train,y_train, epochs = 50)"
   ]
  },
  {
   "cell_type": "code",
   "execution_count": 39,
   "id": "13bdd2fd",
   "metadata": {},
   "outputs": [],
   "source": [
    "ypred = classification.predict(x_test)"
   ]
  },
  {
   "cell_type": "code",
   "execution_count": 38,
   "id": "5c232830",
   "metadata": {},
   "outputs": [
    {
     "data": {
      "text/plain": [
       "array([[1.0000000e+00, 4.9253467e-15],\n",
       "       [7.7220058e-01, 2.2779942e-01],\n",
       "       [1.0000000e+00, 2.6006336e-19],\n",
       "       ...,\n",
       "       [4.2099820e-04, 9.9957901e-01],\n",
       "       [1.0000000e+00, 1.3711653e-14],\n",
       "       [1.0000000e+00, 4.2375735e-11]], dtype=float32)"
      ]
     },
     "execution_count": 38,
     "metadata": {},
     "output_type": "execute_result"
    }
   ],
   "source": [
    "ypred"
   ]
  },
  {
   "cell_type": "code",
   "execution_count": 40,
   "id": "5d608a65",
   "metadata": {},
   "outputs": [],
   "source": [
    "ypred=ypred>0.5"
   ]
  },
  {
   "cell_type": "code",
   "execution_count": 41,
   "id": "61318d04",
   "metadata": {},
   "outputs": [
    {
     "data": {
      "text/plain": [
       "array([[1., 0.],\n",
       "       [0., 1.],\n",
       "       [1., 0.],\n",
       "       ...,\n",
       "       [0., 1.],\n",
       "       [0., 1.],\n",
       "       [1., 0.]])"
      ]
     },
     "execution_count": 41,
     "metadata": {},
     "output_type": "execute_result"
    }
   ],
   "source": [
    "y_test"
   ]
  },
  {
   "cell_type": "code",
   "execution_count": 42,
   "id": "29b75da0",
   "metadata": {},
   "outputs": [
    {
     "data": {
      "text/html": [
       "<div>\n",
       "<style scoped>\n",
       "    .dataframe tbody tr th:only-of-type {\n",
       "        vertical-align: middle;\n",
       "    }\n",
       "\n",
       "    .dataframe tbody tr th {\n",
       "        vertical-align: top;\n",
       "    }\n",
       "\n",
       "    .dataframe thead th {\n",
       "        text-align: right;\n",
       "    }\n",
       "</style>\n",
       "<table border=\"1\" class=\"dataframe\">\n",
       "  <thead>\n",
       "    <tr style=\"text-align: right;\">\n",
       "      <th></th>\n",
       "      <th>age</th>\n",
       "      <th>job</th>\n",
       "      <th>marital</th>\n",
       "      <th>education</th>\n",
       "      <th>default</th>\n",
       "      <th>balance</th>\n",
       "      <th>housing</th>\n",
       "      <th>loan</th>\n",
       "      <th>contact</th>\n",
       "      <th>day</th>\n",
       "      <th>month</th>\n",
       "      <th>duration</th>\n",
       "      <th>campaign</th>\n",
       "      <th>pdays</th>\n",
       "      <th>previous</th>\n",
       "      <th>poutcome</th>\n",
       "      <th>deposit</th>\n",
       "    </tr>\n",
       "  </thead>\n",
       "  <tbody>\n",
       "    <tr>\n",
       "      <th>0</th>\n",
       "      <td>59</td>\n",
       "      <td>admin.</td>\n",
       "      <td>married</td>\n",
       "      <td>secondary</td>\n",
       "      <td>no</td>\n",
       "      <td>2343</td>\n",
       "      <td>yes</td>\n",
       "      <td>no</td>\n",
       "      <td>unknown</td>\n",
       "      <td>5</td>\n",
       "      <td>may</td>\n",
       "      <td>1042</td>\n",
       "      <td>1</td>\n",
       "      <td>-1</td>\n",
       "      <td>0</td>\n",
       "      <td>unknown</td>\n",
       "      <td>yes</td>\n",
       "    </tr>\n",
       "  </tbody>\n",
       "</table>\n",
       "</div>"
      ],
      "text/plain": [
       "   age     job  marital  education default  balance housing loan  contact  \\\n",
       "0   59  admin.  married  secondary      no     2343     yes   no  unknown   \n",
       "\n",
       "   day month  duration  campaign  pdays  previous poutcome deposit  \n",
       "0    5   may      1042         1     -1         0  unknown     yes  "
      ]
     },
     "execution_count": 42,
     "metadata": {},
     "output_type": "execute_result"
    }
   ],
   "source": [
    "dataset.head(1)"
   ]
  },
  {
   "cell_type": "code",
   "execution_count": 54,
   "id": "6d29a644",
   "metadata": {},
   "outputs": [],
   "source": [
    "deposit=[\"No\",\"Yes\"]\n",
    "yp=classification.predict(sc.transform(ct.transform([[59,'admin.','married','secondary','no',2343,'yes','no','unknown',5,'may',1042,1,-1,0,'unknown']])))\n",
    "prediction=deposit[np.argmax(yp)]\n"
   ]
  },
  {
   "cell_type": "code",
   "execution_count": 55,
   "id": "b95b88f5",
   "metadata": {
    "scrolled": true
   },
   "outputs": [
    {
     "data": {
      "text/plain": [
       "'Yes'"
      ]
     },
     "execution_count": 55,
     "metadata": {},
     "output_type": "execute_result"
    }
   ],
   "source": [
    "prediction"
   ]
  },
  {
   "cell_type": "code",
   "execution_count": null,
   "id": "270fbbc2",
   "metadata": {},
   "outputs": [],
   "source": []
  }
 ],
 "metadata": {
  "kernelspec": {
   "display_name": "Python 3",
   "language": "python",
   "name": "python3"
  },
  "language_info": {
   "codemirror_mode": {
    "name": "ipython",
    "version": 3
   },
   "file_extension": ".py",
   "mimetype": "text/x-python",
   "name": "python",
   "nbconvert_exporter": "python",
   "pygments_lexer": "ipython3",
   "version": "3.8.8"
  }
 },
 "nbformat": 4,
 "nbformat_minor": 5
}
